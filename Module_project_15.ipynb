{
 "cells": [
  {
   "cell_type": "markdown",
   "id": "77aeaba8-6a6a-4cc7-931b-811706f21dc1",
   "metadata": {},
   "source": [
    "# Computational carpentry project"
   ]
  },
  {
   "cell_type": "markdown",
   "id": "c41e9c4a-13ab-4f59-af84-bcc40cd4dab5",
   "metadata": {},
   "source": [
    "## Part A :\n",
    "\n",
    "1. Load the “.csv” data file you are assigned using pandas (0)\n",
    "2. Explain what the data is about (5)\n",
    "3. What are the datatypes in your dataframe ? (5)\n",
    "4. How many rows and columns do you have ? (5 each)\n",
    "5. Do you have missing data ? If yes, how many ? (5)"
   ]
  },
  {
   "cell_type": "markdown",
   "id": "4e9c1073-cecd-403b-ac33-e99398213f31",
   "metadata": {},
   "source": [
    "### Question 1 :"
   ]
  },
  {
   "cell_type": "code",
   "execution_count": 3,
   "id": "cec2633d-f08d-45e2-90cb-8a20ba4f9740",
   "metadata": {
    "tags": []
   },
   "outputs": [],
   "source": [
    "import pandas as pd\n",
    "df=pd.read_csv('5-Steel_industry.csv') #Import the datafile to use it. "
   ]
  },
  {
   "cell_type": "markdown",
   "id": "243e9f95-96aa-4279-ab2a-baf3a472ed69",
   "metadata": {},
   "source": [
    "### Question 2 :\n",
    "\n",
    "Our data provides information on the energy consumption of DAEWOO Steel Co. Ltd Industry, located in Gwangyang (South Korea). This industry produces coils, steel plates and iron plates. The data covers energy consumption over 1 year (2018) and is measured every 15 minutes, giving a total of 35041 samples.\n",
    "\n",
    "### Question 3 :"
   ]
  },
  {
   "cell_type": "code",
   "execution_count": 13,
   "id": "1c88234b-e3e3-42d4-9647-f0785833fcf7",
   "metadata": {
    "tags": []
   },
   "outputs": [
    {
     "name": "stdout",
     "output_type": "stream",
     "text": [
      "Date_Time                                object\n",
      "Usage_kWh                               float64\n",
      "Lagging_Current_Reactive.Power_kVarh    float64\n",
      "Leading_Current_Reactive_Power_kVarh    float64\n",
      "CO2(tCO2)                               float64\n",
      "Lagging_Current_Power_Factor            float64\n",
      "Leading_Current_Power_Factor            float64\n",
      "NSM                                       int64\n",
      "WeekStatus                               object\n",
      "Day_Of_Week                              object\n",
      "Load_Type                                object\n",
      "dtype: object\n"
     ]
    }
   ],
   "source": [
    "print(df.dtypes) #give the type of each column"
   ]
  },
  {
   "cell_type": "markdown",
   "id": "e308e50d-adb1-411d-9278-5b7686267f3a",
   "metadata": {},
   "source": [
    "### Question 4 : "
   ]
  },
  {
   "cell_type": "code",
   "execution_count": 14,
   "id": "36a8557c-29ec-4662-aea6-6f09cfde5742",
   "metadata": {
    "tags": []
   },
   "outputs": [
    {
     "name": "stdout",
     "output_type": "stream",
     "text": [
      "The Data has 35041 rows and 11 columns\n"
     ]
    }
   ],
   "source": [
    "rows, columns = df.shape #based on the shape, counts the number of rows and columns\n",
    "print(f\"The Data has {rows} rows and {columns} columns\")"
   ]
  },
  {
   "cell_type": "markdown",
   "id": "5a61bcf9-a27e-4dd8-b228-0a4ca92ca263",
   "metadata": {},
   "source": [
    "### Question 5 :"
   ]
  },
  {
   "cell_type": "code",
   "execution_count": 15,
   "id": "5618df15-b52a-46cc-9f27-148c5373bd1a",
   "metadata": {
    "tags": []
   },
   "outputs": [
    {
     "name": "stdout",
     "output_type": "stream",
     "text": [
      "Date_Time                               0\n",
      "Usage_kWh                               0\n",
      "Lagging_Current_Reactive.Power_kVarh    0\n",
      "Leading_Current_Reactive_Power_kVarh    0\n",
      "CO2(tCO2)                               0\n",
      "Lagging_Current_Power_Factor            0\n",
      "Leading_Current_Power_Factor            0\n",
      "NSM                                     0\n",
      "WeekStatus                              0\n",
      "Day_Of_Week                             0\n",
      "Load_Type                               0\n",
      "dtype: int64\n",
      "\n",
      "The total number of missing values is 0\n"
     ]
    }
   ],
   "source": [
    "missing_data = df.isnull().sum() # Find the missing values and add them over a column\n",
    "print (missing_data)\n",
    "\n",
    "total_missing_data = df.isnull().sum().sum() # Find the missing values and add them together\n",
    "print(f\"\\nThe total number of missing values is {total_missing_data}\")"
   ]
  },
  {
   "cell_type": "markdown",
   "id": "c97113ec-0169-4999-b6c3-ac51d9e6c138",
   "metadata": {},
   "source": [
    "## Part B :\n",
    "\n",
    "1. Select 2 subsets (i.e., certain rows) of your data using Boolean indexing. The selection\n",
    "must be based on 2 different conditions (10 each)\n",
    "2. Explain your choices (5)\n",
    "3. Discuss at least 4 interesting points of your data. For instance, you can find maxima,\n",
    "minima, mean, standard deviation, etc… (5 each)"
   ]
  },
  {
   "cell_type": "markdown",
   "id": "c7ca9ac1-c2f4-4452-a4c0-3ae2107b7449",
   "metadata": {},
   "source": [
    "### Question 1 :"
   ]
  },
  {
   "cell_type": "code",
   "execution_count": 8,
   "id": "877f9be1-4172-42f7-a2f8-62222e6b65ae",
   "metadata": {
    "tags": []
   },
   "outputs": [
    {
     "name": "stdout",
     "output_type": "stream",
     "text": [
      "Subset 1:\n",
      "              Date_Time  Usage_kWh  Lagging_Current_Reactive.Power_kVarh  \\\n",
      "1311   14/01/2018 16:00      58.86                                 20.92   \n",
      "5280   25/02/2018 00:15      67.18                                 37.19   \n",
      "5281   25/02/2018 00:30      60.98                                 36.29   \n",
      "9345   08/04/2018 08:30      99.14                                 52.99   \n",
      "9346   08/04/2018 08:45      68.90                                 39.46   \n",
      "...                 ...        ...                                   ...   \n",
      "33560  16/12/2018 14:15      57.89                                 22.25   \n",
      "33565  16/12/2018 15:30      60.55                                 29.38   \n",
      "33567  16/12/2018 16:00      63.22                                 29.99   \n",
      "33568  16/12/2018 16:15      62.64                                 27.07   \n",
      "33569  16/12/2018 16:30      66.02                                 30.60   \n",
      "\n",
      "       Leading_Current_Reactive_Power_kVarh  CO2(tCO2)  \\\n",
      "1311                                   0.07       0.03   \n",
      "5280                                   0.00       0.03   \n",
      "5281                                   0.00       0.03   \n",
      "9345                                   0.00       0.05   \n",
      "9346                                   0.00       0.03   \n",
      "...                                     ...        ...   \n",
      "33560                                  0.00       0.03   \n",
      "33565                                  0.00       0.03   \n",
      "33567                                  0.00       0.03   \n",
      "33568                                  0.00       0.03   \n",
      "33569                                  0.00       0.03   \n",
      "\n",
      "       Lagging_Current_Power_Factor  Leading_Current_Power_Factor    NSM  \\\n",
      "1311                          94.23                         100.0  57600   \n",
      "5280                          87.49                         100.0    900   \n",
      "5281                          85.93                         100.0   1800   \n",
      "9345                          88.19                         100.0  30600   \n",
      "9346                          86.78                         100.0  31500   \n",
      "...                             ...                           ...    ...   \n",
      "33560                         93.34                         100.0  51300   \n",
      "33565                         89.97                         100.0  55800   \n",
      "33567                         90.35                         100.0  57600   \n",
      "33568                         91.80                         100.0  58500   \n",
      "33569                         90.73                         100.0  59400   \n",
      "\n",
      "      WeekStatus Day_Of_Week    Load_Type  \n",
      "1311     Weekend      Sunday  Medium_Load  \n",
      "5280     Weekend      Sunday   Light_Load  \n",
      "5281     Weekend      Sunday   Light_Load  \n",
      "9345     Weekend      Sunday   Light_Load  \n",
      "9346     Weekend      Sunday   Light_Load  \n",
      "...          ...         ...          ...  \n",
      "33560    Weekend      Sunday  Medium_Load  \n",
      "33565    Weekend      Sunday  Medium_Load  \n",
      "33567    Weekend      Sunday  Medium_Load  \n",
      "33568    Weekend      Sunday  Medium_Load  \n",
      "33569    Weekend      Sunday  Medium_Load  \n",
      "\n",
      "[118 rows x 11 columns]\n",
      "\n",
      "Subset 2:\n",
      "              Date_Time  Usage_kWh  Lagging_Current_Reactive.Power_kVarh  \\\n",
      "705    08/01/2018 08:30     130.54                                 77.80   \n",
      "706    08/01/2018 08:45      81.36                                 56.23   \n",
      "707    08/01/2018 09:00     114.95                                 42.34   \n",
      "708    08/01/2018 09:15     108.04                                 30.56   \n",
      "709    08/01/2018 09:30      95.26                                 27.58   \n",
      "...                 ...        ...                                   ...   \n",
      "34313  24/12/2018 10:30      58.39                                 26.35   \n",
      "34314  24/12/2018 10:45      54.86                                 20.30   \n",
      "34316  24/12/2018 11:15      55.55                                 22.57   \n",
      "34329  24/12/2018 14:30      63.90                                 26.57   \n",
      "34337  24/12/2018 16:30      69.55                                 29.77   \n",
      "\n",
      "       Leading_Current_Reactive_Power_kVarh  CO2(tCO2)  \\\n",
      "705                                     0.0       0.06   \n",
      "706                                     0.0       0.04   \n",
      "707                                     0.0       0.05   \n",
      "708                                     0.0       0.05   \n",
      "709                                     0.0       0.04   \n",
      "...                                     ...        ...   \n",
      "34313                                   0.0       0.03   \n",
      "34314                                   0.0       0.03   \n",
      "34316                                   0.0       0.03   \n",
      "34329                                   0.0       0.03   \n",
      "34337                                   0.0       0.03   \n",
      "\n",
      "       Lagging_Current_Power_Factor  Leading_Current_Power_Factor    NSM  \\\n",
      "705                           85.90                         100.0  30600   \n",
      "706                           82.26                         100.0  31500   \n",
      "707                           93.84                         100.0  32400   \n",
      "708                           96.22                         100.0  33300   \n",
      "709                           96.06                         100.0  34200   \n",
      "...                             ...                           ...    ...   \n",
      "34313                         91.15                         100.0  37800   \n",
      "34314                         93.79                         100.0  38700   \n",
      "34316                         92.65                         100.0  40500   \n",
      "34329                         92.34                         100.0  52200   \n",
      "34337                         91.93                         100.0  59400   \n",
      "\n",
      "      WeekStatus Day_Of_Week     Load_Type  \n",
      "705      Weekday      Monday    Light_Load  \n",
      "706      Weekday      Monday    Light_Load  \n",
      "707      Weekday      Monday    Light_Load  \n",
      "708      Weekday      Monday   Medium_Load  \n",
      "709      Weekday      Monday   Medium_Load  \n",
      "...          ...         ...           ...  \n",
      "34313    Weekday      Monday  Maximum_Load  \n",
      "34314    Weekday      Monday  Maximum_Load  \n",
      "34316    Weekday      Monday  Maximum_Load  \n",
      "34329    Weekday      Monday   Medium_Load  \n",
      "34337    Weekday      Monday   Medium_Load  \n",
      "\n",
      "[1547 rows x 11 columns]\n"
     ]
    }
   ],
   "source": [
    "subset1=df[(df['Day_Of_Week'] == 'Sunday') & (df['CO2(tCO2)'] > 0.02)]\n",
    "subset2=df[(df['Day_Of_Week'] == 'Monday') & (df['CO2(tCO2)'] > 0.02)]\n",
    "print(\"Subset 1:\")\n",
    "print(subset1)\n",
    "print(\"\\nSubset 2:\")\n",
    "print(subset2)"
   ]
  },
  {
   "cell_type": "markdown",
   "id": "3a24de7e-ec80-4d7a-81ff-7a71dd86a273",
   "metadata": {},
   "source": [
    "### Question 2 :\n",
    "\n",
    "We chose to compare CO2 emissions in tonnes of CO2 for weekends and weekdays. To do this, we chose Monday and Sunday in order to have a single day for each category and to have the same number of samples. The second condition was that the emission had to be greater than 0.02 tCO2. \n",
    "\n",
    "We found 118 lines for Sunday and 1,547 lines for Monday. As we can see, CO2 emissions are much higher on weekdays than at weekends. \n",
    "\n",
    "To be more precise, we could also have compared Friday and Saturday. "
   ]
  },
  {
   "cell_type": "markdown",
   "id": "5a3fb243-ee73-43ca-a865-f87ec8948661",
   "metadata": {},
   "source": [
    "### Question 3 :"
   ]
  },
  {
   "cell_type": "code",
   "execution_count": 16,
   "id": "a9237e39-5772-42b7-a67d-87d165412a9d",
   "metadata": {
    "tags": []
   },
   "outputs": [
    {
     "name": "stdout",
     "output_type": "stream",
     "text": [
      "Maximum of the usage of energy (kWh) :157.18\n",
      "\n",
      "Minimum of the usage of energy (kWh) :0.0\n",
      "\n",
      "Mean of the usage of energy (kWh) :27.386229274278698\n",
      "\n",
      "Standard deviation of the usage of energy (kWh) :33.44413284594327\n"
     ]
    }
   ],
   "source": [
    "max_value=df[\"Usage_kWh\"].max() #find maximum\n",
    "min_value=df[\"Usage_kWh\"].min() #find minimum\n",
    "mean_value=df[\"Usage_kWh\"].mean() #calculate mean value\n",
    "standard_deviation=df[\"Usage_kWh\"].std() #calculate standard deviation\n",
    "\n",
    "print(f\"Maximum of the usage of energy (kWh) :{max_value}\")\n",
    "print(f\"\\nMinimum of the usage of energy (kWh) :{min_value}\")\n",
    "print(f\"\\nMean of the usage of energy (kWh) :{mean_value}\")\n",
    "print(f\"\\nStandard deviation of the usage of energy (kWh) :{standard_deviation}\")"
   ]
  },
  {
   "cell_type": "markdown",
   "id": "0fb7631a-85ee-4756-b63e-da78e31c1568",
   "metadata": {},
   "source": [
    "We decided to analyse the data in the ‘Usage_kWh’ column, which corresponds to industrial energy use. We calculated the maximum, minimum, mean and standard deviation. We can see that the average is closer to the minimum, so we have more low values than high values. Although the maximum is high, the energy values remain relatively low. \n",
    "\n",
    "We should also bear in mind that the data is collected continuously, every 15 minutes, even when production is not running, which also explains the relatively low average. \n",
    "\n",
    "In addition, the standard deviation is large, which means that the data is relatively spread out. "
   ]
  },
  {
   "cell_type": "markdown",
   "id": "42f7e4d3-60f8-4a6e-bc7c-244699e810c1",
   "metadata": {},
   "source": [
    "## Part C :\n",
    "\n",
    "1. Show parts of your data by creating 2 different data plots. Make sure you use 2 different\n",
    "plot types (scatter, histograms, density, pie-charts, Venn diagrams, etc…). For that you\n",
    "can use different libraries (matplotlib, seaborn, Bokeh, venn, etc…). Please add a title,\n",
    "proper axis labels and legends and make sure the plots are meaningful and readable.\n",
    "(10 each)\n",
    "2. Discuss the plots (5 each)"
   ]
  },
  {
   "cell_type": "code",
   "execution_count": null,
   "id": "c3ac6d4a-28d7-4e7a-beaf-c9b5aee4cc12",
   "metadata": {},
   "outputs": [],
   "source": []
  }
 ],
 "metadata": {
  "kernelspec": {
   "display_name": "Python 3 (ipykernel)",
   "language": "python",
   "name": "python3"
  },
  "language_info": {
   "codemirror_mode": {
    "name": "ipython",
    "version": 3
   },
   "file_extension": ".py",
   "mimetype": "text/x-python",
   "name": "python",
   "nbconvert_exporter": "python",
   "pygments_lexer": "ipython3",
   "version": "3.11.5"
  }
 },
 "nbformat": 4,
 "nbformat_minor": 5
}
