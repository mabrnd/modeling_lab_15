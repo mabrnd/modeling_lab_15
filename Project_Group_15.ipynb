{
 "cells": [
  {
   "cell_type": "markdown",
   "id": "a6bf87fc-f6a2-4a61-8ed3-3e465bc3ee8e",
   "metadata": {},
   "source": [
    "# Project \n",
    "## Emma Brand, Ella Dengler, Diane Tambey"
   ]
  },
  {
   "cell_type": "markdown",
   "id": "91b307c6-82cc-4b9d-b2a2-7b7f98ad870a",
   "metadata": {},
   "source": [
    "### Question 1 :"
   ]
  },
  {
   "cell_type": "markdown",
   "id": "788b82a5-9879-48ae-b42b-51b55f08fd86",
   "metadata": {},
   "source": [
    "The density, the accessible surface area (ASA) and the accessible porbe-occupiable surface (POAV) were obtained with the pore analysis section of AiiDALab. The results are given in the table below. The porosity was not given in the csv table obtaied with AiiDALab. "
   ]
  },
  {
   "cell_type": "code",
   "execution_count": 2,
   "id": "90678298-37d8-4c99-8d95-a6fddd0fff52",
   "metadata": {
    "tags": []
   },
   "outputs": [
    {
     "name": "stdout",
     "output_type": "stream",
     "text": [
      "   Structure  density (g.cm-3)  ASA (A^2)  POAV (A^3)\n",
      "0  Mg-MOF-74          0.886275    222.828     837.198\n",
      "1   NOTT-300          1.039260    453.452    1297.110\n",
      "2    UTSA-20          0.882399   1307.510    3575.360\n",
      "3    UTSA-80          0.678215   3114.620    9619.780\n",
      "4      ZIF-8          0.909567    787.421    2488.250\n"
     ]
    }
   ],
   "source": [
    "import pandas as pd\n",
    "\n",
    "data = {\n",
    "    'Structure': ['Mg-MOF-74', 'NOTT-300', 'UTSA-20', 'UTSA-80', 'ZIF-8'],\n",
    "    'density (g.cm-3)': [0.886275, 1.03926, 0.882399, 0.678215, 0.909567],\n",
    "    'ASA (A^2)': [222.828, 453.452, 1307.51, 3114.62, 787.421],\n",
    "    'POAV (A^3)': [837.198, 1297.11, 3575.36, 9619.78, 2488.25]\n",
    "}\n",
    "\n",
    "df = pd.DataFrame(data)\n",
    "print(df)\n"
   ]
  },
  {
   "cell_type": "markdown",
   "id": "f810bb9b-c49d-47ba-9ea2-6a74f728adb0",
   "metadata": {},
   "source": [
    "### Question 2 : "
   ]
  },
  {
   "cell_type": "markdown",
   "id": "b1118ec3-f84d-4e5e-b2b3-ec68b09a9aff",
   "metadata": {},
   "source": [
    "The Henry coefficients are presented in the table below :"
   ]
  },
  {
   "cell_type": "code",
   "execution_count": 1,
   "id": "21d4d895-d6b7-4045-bed1-5a996eb4fa41",
   "metadata": {
    "tags": []
   },
   "outputs": [
    {
     "name": "stdout",
     "output_type": "stream",
     "text": [
      "    Material  CO2[mol/kg/Pa] N2[mol/kg/Pa]\n",
      "0  Mg-MOF-74        0.000085      0.000003\n",
      "1   NOTT-300        0.000185      0.000011\n",
      "2    UTSA-20        0.000041      0.000004\n",
      "3    UTSA-80        0.000017      0.000003\n",
      "4      ZIF-8        0.000009             -\n"
     ]
    }
   ],
   "source": [
    "import pandas as pd\n",
    "\n",
    "data = {\n",
    "    'Material': ['Mg-MOF-74', 'NOTT-300', 'UTSA-20', 'UTSA-80', 'ZIF-8'],\n",
    "    'CO2[mol/kg/Pa]': [8.47368e-05, 0.000184866, 4.11548e-05, 1.69673e-05, 8.79147e-06],\n",
    "    'N2[mol/kg/Pa]': [3.33516e-06, 1.05462e-05, 4.37743e-06, 3.33349e-06, '-' ]\n",
    "}\n",
    "\n",
    "df = pd.DataFrame(data)\n",
    "\n",
    "print(df)"
   ]
  },
  {
   "cell_type": "markdown",
   "id": "d1b4ec7e-c24f-412a-906b-c3fbea803277",
   "metadata": {
    "tags": []
   },
   "source": [
    "The higher the Henry coefficient of the material is, the better its affinity with CO2 is.\n",
    "Therefore, the structure ZIF-8 has the lowest affinity and NOTT-300 the highest. We can classify the structures as follows : ZIF-8 < UTSA-80 < UTSA-20 < Mg-MOF-74 < NOTT-300"
   ]
  },
  {
   "cell_type": "code",
   "execution_count": null,
   "id": "b0f863cf-3c44-42ce-a34e-90b327736764",
   "metadata": {},
   "outputs": [],
   "source": []
  }
 ],
 "metadata": {
  "kernelspec": {
   "display_name": "Python 3 (ipykernel)",
   "language": "python",
   "name": "python3"
  },
  "language_info": {
   "codemirror_mode": {
    "name": "ipython",
    "version": 3
   },
   "file_extension": ".py",
   "mimetype": "text/x-python",
   "name": "python",
   "nbconvert_exporter": "python",
   "pygments_lexer": "ipython3",
   "version": "3.11.5"
  }
 },
 "nbformat": 4,
 "nbformat_minor": 5
}
