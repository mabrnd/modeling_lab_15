{
 "cells": [
  {
   "cell_type": "markdown",
   "id": "a6bf87fc-f6a2-4a61-8ed3-3e465bc3ee8e",
   "metadata": {},
   "source": [
    "# Project \n",
    "## Emma Brand, Ella Dengler, Diane Tambey"
   ]
  },
  {
   "cell_type": "markdown",
   "id": "91b307c6-82cc-4b9d-b2a2-7b7f98ad870a",
   "metadata": {},
   "source": [
    "### Question 1 :"
   ]
  },
  {
   "cell_type": "markdown",
   "id": "788b82a5-9879-48ae-b42b-51b55f08fd86",
   "metadata": {},
   "source": [
    "The density, the accessible surface area (ASA) and the accessible porbe-occupiable surface (POAV) were obtained with the pore analysis section of AiiDALab. The results are given in the table below. The porosity was not given in the csv table obtaied with AiiDALab. "
   ]
  },
  {
   "cell_type": "code",
   "execution_count": 2,
   "id": "90678298-37d8-4c99-8d95-a6fddd0fff52",
   "metadata": {
    "tags": []
   },
   "outputs": [
    {
     "name": "stdout",
     "output_type": "stream",
     "text": [
      "   Structure  density (g.cm-3)  ASA (A^2)  POAV (A^3)\n",
      "0  Mg-MOF-74          0.886275    222.828     837.198\n",
      "1   NOTT-300          1.039260    453.452    1297.110\n",
      "2    UTSA-20          0.882399   1307.510    3575.360\n",
      "3    UTSA-80          0.678215   3114.620    9619.780\n",
      "4      ZIF-8          0.909567    787.421    2488.250\n"
     ]
    }
   ],
   "source": [
    "import pandas as pd\n",
    "\n",
    "data = {\n",
    "    'Structure': ['Mg-MOF-74', 'NOTT-300', 'UTSA-20', 'UTSA-80', 'ZIF-8'],\n",
    "    'density (g.cm-3)': [0.886275, 1.03926, 0.882399, 0.678215, 0.909567],\n",
    "    'ASA (A^2)': [222.828, 453.452, 1307.51, 3114.62, 787.421],\n",
    "    'POAV (A^3)': [837.198, 1297.11, 3575.36, 9619.78, 2488.25]\n",
    "}\n",
    "\n",
    "df = pd.DataFrame(data)\n",
    "print(df)\n"
   ]
  },
  {
   "cell_type": "markdown",
   "id": "f810bb9b-c49d-47ba-9ea2-6a74f728adb0",
   "metadata": {},
   "source": [
    "### Question 2 : "
   ]
  },
  {
   "cell_type": "code",
   "execution_count": null,
   "id": "f4cb4f59-9129-4e4d-a9a9-57454275df1c",
   "metadata": {},
   "outputs": [],
   "source": []
  }
 ],
 "metadata": {
  "kernelspec": {
   "display_name": "Python 3 (ipykernel)",
   "language": "python",
   "name": "python3"
  },
  "language_info": {
   "codemirror_mode": {
    "name": "ipython",
    "version": 3
   },
   "file_extension": ".py",
   "mimetype": "text/x-python",
   "name": "python",
   "nbconvert_exporter": "python",
   "pygments_lexer": "ipython3",
   "version": "3.11.5"
  }
 },
 "nbformat": 4,
 "nbformat_minor": 5
}
